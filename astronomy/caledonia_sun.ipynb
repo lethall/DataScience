{
 "cells": [
  {
   "metadata": {
    "trusted": true
   },
   "cell_type": "code",
   "source": "from skyfield.api import load, N, W, wgs84, utc, Angle\nfrom datetime import datetime\nfrom pytz import timezone\nest = timezone(\"US/Eastern\")\nts = load.timescale()\nde421 = load(\"de421.bsp\")\nearth, sun, moon = de421[\"earth\"], de421[\"sun\"], de421[\"moon\"]\n# 40°37′55″ N  82°58′37″ W\ncaledonia_wsg = wgs84.latlon(40.63194 * N, 82.9769 * W)\ncaledonia = earth + caledonia_wsg",
   "execution_count": 1,
   "outputs": []
  },
  {
   "metadata": {
    "trusted": true
   },
   "cell_type": "code",
   "source": "def print_observe(from_obj, obj, tt):\n    pos = from_obj.at(tt).observe(obj)\n    alt, az, d = pos.apparent().altaz()\n    ra, dec, d = pos.radec()\n    print(f\"{obj.target_name.split()[-1]}\\nalt: {alt.degrees:.2f}\\t az: {az.degrees:.1f}\\n ra: {ra.hours:.3f}h\\tdec: {dec.degrees:.1f}\")",
   "execution_count": 2,
   "outputs": []
  },
  {
   "metadata": {
    "trusted": true
   },
   "cell_type": "code",
   "source": "t = ts.now()\n#t = ts.from_datetime(datetime.strptime(\"2025-08-23 06:06 UTC\", \"%Y-%m-%d %H:%M %Z\").replace(tzinfo=utc))\nlst = caledonia_wsg.lst_hours_at(t)\nprint(f\"{t.tt_strftime()}\\nLST: {Angle(hours=lst)} ({lst:.2f}h)\")\nprint_observe(caledonia, sun, t)\nprint_observe(caledonia, moon, t)",
   "execution_count": 3,
   "outputs": [
    {
     "output_type": "stream",
     "text": "2025-10-08 16:25:53 TT\nLST: 12h 03m 03.13s (12.05h)\nSUN\nalt: 41.56\t az: 161.7\n ra: 12.939h\tdec: -6.0\nMOON\nalt: -25.32\t az: 325.7\n ra: 2.170h\tdec: 16.6\n",
     "name": "stdout"
    }
   ]
  },
  {
   "metadata": {
    "trusted": true
   },
   "cell_type": "code",
   "source": "from skyfield import almanac\na = ts.from_datetime(datetime.strptime(\"2025-10-06 00:00 UTC\", \"%Y-%m-%d %H:%M %Z\").replace(tzinfo=utc))\nb = ts.from_datetime(datetime.strptime(\"2025-10-15 00:00 UTC\", \"%Y-%m-%d %H:%M %Z\").replace(tzinfo=utc))\nt, y = almanac.find_discrete(a, b, almanac.moon_phases(de421))\n\nfor tm, ty, ph in zip(t.astimezone(est),y,[almanac.MOON_PHASES[yi] for yi in y]):\n    print(f\"{tm.isoformat(' ', 'seconds')} {ph}\")\n# almanac.moon_phases([a,b])\nrt, y = almanac.find_risings(caledonia, sun, a, b)\nst, y = almanac.find_settings(caledonia, sun, a, b)\nfor rtm, stm in zip(rt,st):\n    print(f\"{rtm.astimezone(est).date()} {rtm.astimezone(est).time().isoformat('seconds')} / {stm.astimezone(est).time().isoformat('seconds')}\")",
   "execution_count": 5,
   "outputs": [
    {
     "output_type": "stream",
     "text": "2025-10-06 23:47:36-04:00 Full Moon\n2025-10-13 14:12:41-04:00 Last Quarter\n2025-10-06 07:33:52 / 19:05:16\n2025-10-07 07:34:54 / 19:03:39\n2025-10-08 07:35:57 / 19:02:03\n2025-10-09 07:36:59 / 19:00:28\n2025-10-10 07:38:02 / 18:58:53\n2025-10-11 07:39:06 / 18:57:19\n2025-10-12 07:40:09 / 18:55:46\n2025-10-13 07:41:13 / 18:54:13\n2025-10-14 07:42:18 / 18:52:41\n",
     "name": "stdout"
    }
   ]
  }
 ],
 "metadata": {
  "kernelspec": {
   "name": "python3",
   "display_name": "Python 3",
   "language": "python"
  },
  "language_info": {
   "name": "python",
   "version": "3.10.4",
   "mimetype": "text/x-python",
   "codemirror_mode": {
    "name": "ipython",
    "version": 3
   },
   "pygments_lexer": "ipython3",
   "nbconvert_exporter": "python",
   "file_extension": ".py"
  }
 },
 "nbformat": 4,
 "nbformat_minor": 2
}