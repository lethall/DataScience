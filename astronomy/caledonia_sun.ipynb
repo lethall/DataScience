{
 "cells": [
  {
   "metadata": {
    "trusted": true
   },
   "cell_type": "code",
   "source": "from skyfield.api import load, N, W, wgs84, utc, Angle\nfrom datetime import datetime\nts = load.timescale()\n# t = ts.from_datetime(datetime.strptime(\"2024-04-08 19:13 UTC\", \"%Y-%m-%d %H:%M %Z\").replace(tzinfo=utc))\nde421 = load(\"de421.bsp\")\nearth, sun, moon = de421[\"earth\"], de421[\"sun\"], de421[\"moon\"]\ncaledonia_wsg = wgs84.latlon(40.6318188 * N, 82.9766802 * W)\ncaledonia = earth + caledonia_wsg",
   "execution_count": 2,
   "outputs": []
  },
  {
   "metadata": {
    "trusted": true
   },
   "cell_type": "code",
   "source": "def print_observe(from_obj, obj):\n    pos = from_obj.at(t).observe(obj)\n    alt, az, d = pos.apparent().altaz()\n    ra, dec, d = pos.radec()\n    print(f\"{obj.target_name.split()[-1]}\\nalt: {alt.degrees:.2f}\\t az: {az.degrees:.1f}\\n ra: {ra.hours:.1f}h\\tdec: {dec.degrees:.1f}\")",
   "execution_count": 3,
   "outputs": []
  },
  {
   "metadata": {
    "trusted": true
   },
   "cell_type": "code",
   "source": "t = ts.now()\nlst = caledonia_wsg.lst_hours_at(t)\nprint(f\"{t.tt_strftime()}\\nLST: {Angle(hours=lst)} ({lst:.2f}h)\")\nprint_observe(caledonia, sun)\nprint_observe(caledonia, moon)",
   "execution_count": 4,
   "outputs": [
    {
     "output_type": "stream",
     "text": "2025-03-14 00:29:01 TT\nLST: 06h 23m 30.46s (6.39h)\nSUN\nalt: -10.49\t az: 275.7\n ra: 23.6h\tdec: -2.7\nMOON\nalt: 12.63\t az: 96.1\n ra: 11.5h\tdec: 3.8\n",
     "name": "stdout"
    }
   ]
  }
 ],
 "metadata": {
  "kernelspec": {
   "name": "python3",
   "display_name": "Python 3",
   "language": "python"
  },
  "language_info": {
   "name": "python",
   "version": "3.10.4",
   "mimetype": "text/x-python",
   "codemirror_mode": {
    "name": "ipython",
    "version": 3
   },
   "pygments_lexer": "ipython3",
   "nbconvert_exporter": "python",
   "file_extension": ".py"
  }
 },
 "nbformat": 4,
 "nbformat_minor": 2
}