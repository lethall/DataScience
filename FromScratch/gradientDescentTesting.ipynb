{
 "cells": [
  {
   "cell_type": "code",
   "execution_count": 1,
   "metadata": {},
   "outputs": [],
   "source": [
    "from matplotlib import pyplot as plt\n",
    "from collections import Counter\n",
    "from typing import List\n",
    "from DSFS.statistics import *\n",
    "from DSFS.inference import *\n",
    "from DSFS.gradient_descent import *"
   ]
  },
  {
   "cell_type": "code",
   "execution_count": 2,
   "metadata": {},
   "outputs": [
    {
     "data": {
      "image/png": "[encoded data removed]",
      "text/plain": [
       "<Figure size 640x480 with 1 Axes>"
      ]
     },
     "metadata": {},
     "output_type": "display_data"
    }
   ],
   "source": [
    "xs = range(-10, 11)\n",
    "actuals = [derivative(x) for x in xs]\n",
    "estimates = [difference_quotient(square, x, h=0.001) for x in xs]\n",
    "\n",
    "plt.title(\"Actual Derivatives vs. Estimates\")\n",
    "plt.plot(xs, actuals, 'rx', label='Actual')\n",
    "plt.plot(xs, estimates, 'b+', label='Estimate')\n",
    "plt.legend(loc=9)\n",
    "plt.show()"
   ]
  },
  {
   "cell_type": "code",
   "execution_count": 3,
   "metadata": {},
   "outputs": [],
   "source": [
    "import random\n",
    "from DSFS.vectors import Vector, distance, add, scalar_multiply\n",
    "\n",
    "def gradient_step(v: Vector, gradient: Vector, step_size: float) -> Vector:\n",
    "    assert len(v) == len(gradient)\n",
    "    step = scalar_multiply(step_size, gradient)\n",
    "    return add(v, step)\n",
    "\n",
    "def sum_of_squares_gradient(v: Vector) -> Vector:\n",
    "    return [2 * v_i for v_i in v]\n",
    "\n",
    "v = [random.uniform(-10, 10) for i in range(5)]\n",
    "\n",
    "for epoch in range(1000):\n",
    "    grad = sum_of_squares_gradient(v)\n",
    "    v = gradient_step(v, grad, -0.01)\n",
    "    # print(epoch, v)\n",
    "\n",
    "    \n",
    "assert distance(v, [0, 0, 0, 0, 0]) < 0.001"
   ]
  },
  {
   "cell_type": "code",
   "execution_count": 4,
   "metadata": {},
   "outputs": [],
   "source": [
    "import random\n",
    "from DSFS.vectors import distance, add, scalar_multiply, vector_mean\n",
    "\n",
    "def gradient_step(v: Vector, gradient: Vector, step_size: float) -> Vector:\n",
    "    assert len(v) == len(gradient)\n",
    "    step = scalar_multiply(step_size, gradient)\n",
    "    return add(v, step)\n",
    "\n",
    "def sum_of_squares_gradient(v: Vector) -> Vector:\n",
    "    return [2 * v_i for v_i in v]\n",
    "# pick a random starting point\n",
    "v = [random.uniform(-10, 10) for i in range(3)]\n",
    "\n",
    "for epoch in range(1000):\n",
    "    grad = sum_of_squares_gradient(v) # compute the gradient at v\n",
    "    v = gradient_step(v, grad, -0.01) # take a negative gradient step\n",
    "    # print(epoch, v)\n",
    "    \n",
    "assert distance(v, [0, 0, 0]) < 0.001 # v should be close to 0"
   ]
  },
  {
   "cell_type": "code",
   "execution_count": 5,
   "metadata": {},
   "outputs": [
    {
     "name": "stdout",
     "output_type": "stream",
     "text": [
      "5.999999999988043  In range\n",
      "8.999999980092548  In range\n"
     ]
    }
   ],
   "source": [
    "set_slope = 6\n",
    "set_intercept = 9\n",
    "inputs = [(x, set_slope * x + set_intercept) for x in range(-50, 50)]\n",
    "\n",
    "theta = [random.uniform(-1, 1), random.uniform(-1, 1)]\n",
    "\n",
    "learning_rate = 0.001\n",
    "\n",
    "for epoch in range(10000):\n",
    "    grad = vector_mean([linear_gradient(x, y, theta) for x, y in inputs])\n",
    "    theta = gradient_step(theta, grad, -learning_rate)\n",
    "    #print(epoch, theta)\n",
    "    \n",
    "slope, intercept = theta\n",
    "assert (set_slope - 0.1) < slope < (set_slope + 0.1), f\"Slope should be about {set_slope}\"\n",
    "print(slope, \" In range\")\n",
    "assert (set_intercept - 0.1) < intercept < (set_intercept + 0.1), f\"Intercept should be about {set_intercept}\"\n",
    "print(intercept, \" In range\")"
   ]
  },
  {
   "cell_type": "code",
   "execution_count": 6,
   "metadata": {},
   "outputs": [
    {
     "name": "stdout",
     "output_type": "stream",
     "text": [
      "[(-50, -291), (-49, -285), (-48, -279), (-47, -273), (-46, -267), (-45, -261), (-44, -255), (-43, -249), (-42, -243), (-41, -237), (-40, -231), (-39, -225), (-38, -219), (-37, -213), (-36, -207), (-35, -201), (-34, -195), (-33, -189), (-32, -183), (-31, -177), (-30, -171), (-29, -165), (-28, -159), (-27, -153), (-26, -147), (-25, -141), (-24, -135), (-23, -129), (-22, -123), (-21, -117), (-20, -111), (-19, -105), (-18, -99), (-17, -93), (-16, -87), (-15, -81), (-14, -75), (-13, -69), (-12, -63), (-11, -57), (-10, -51), (-9, -45), (-8, -39), (-7, -33), (-6, -27), (-5, -21), (-4, -15), (-3, -9), (-2, -3), (-1, 3), (0, 9), (1, 15), (2, 21), (3, 27), (4, 33), (5, 39), (6, 45), (7, 51), (8, 57), (9, 63), (10, 69), (11, 75), (12, 81), (13, 87), (14, 93), (15, 99), (16, 105), (17, 111), (18, 117), (19, 123), (20, 129), (21, 135), (22, 141), (23, 147), (24, 153), (25, 159), (26, 165), (27, 171), (28, 177), (29, 183), (30, 189), (31, 195), (32, 201), (33, 207), (34, 213), (35, 219), (36, 225), (37, 231), (38, 237), (39, 243), (40, 249), (41, 255), (42, 261), (43, 267), (44, 273), (45, 279), (46, 285), (47, 291), (48, 297), (49, 303)]\n"
     ]
    },
    {
     "ename": "TypeError",
     "evalue": "unsupported operand type(s) for +: 'float' and 'module'",
     "output_type": "error",
     "traceback": [
      "\u001b[1;31m---------------------------------------------------------------------------\u001b[0m",
      "\u001b[1;31mTypeError\u001b[0m                                 Traceback (most recent call last)",
      "Cell \u001b[1;32mIn[6], line 8\u001b[0m\n\u001b[0;32m      6\u001b[0m \u001b[38;5;28;01mfor\u001b[39;00m epoch \u001b[38;5;129;01min\u001b[39;00m \u001b[38;5;28mrange\u001b[39m(\u001b[38;5;241m1000\u001b[39m):\n\u001b[0;32m      7\u001b[0m     \u001b[38;5;28;01mfor\u001b[39;00m batch \u001b[38;5;129;01min\u001b[39;00m minibatch(inputs, batch_size\u001b[38;5;241m=\u001b[39m\u001b[38;5;241m20\u001b[39m):\n\u001b[1;32m----> 8\u001b[0m         grad \u001b[38;5;241m=\u001b[39m vector_mean([linear_gradient(x, y, theta) \u001b[38;5;28;01mfor\u001b[39;00m x, y \u001b[38;5;129;01min\u001b[39;00m batch])        \n\u001b[0;32m      9\u001b[0m         theta \u001b[38;5;241m=\u001b[39m gradient_step(theta, grad, \u001b[38;5;241m-\u001b[39mlearning_rate)\n\u001b[0;32m     10\u001b[0m     \u001b[38;5;66;03m#print(epoch, theta)\u001b[39;00m\n",
      "Cell \u001b[1;32mIn[6], line 8\u001b[0m, in \u001b[0;36m<listcomp>\u001b[1;34m(.0)\u001b[0m\n\u001b[0;32m      6\u001b[0m \u001b[38;5;28;01mfor\u001b[39;00m epoch \u001b[38;5;129;01min\u001b[39;00m \u001b[38;5;28mrange\u001b[39m(\u001b[38;5;241m1000\u001b[39m):\n\u001b[0;32m      7\u001b[0m     \u001b[38;5;28;01mfor\u001b[39;00m batch \u001b[38;5;129;01min\u001b[39;00m minibatch(inputs, batch_size\u001b[38;5;241m=\u001b[39m\u001b[38;5;241m20\u001b[39m):\n\u001b[1;32m----> 8\u001b[0m         grad \u001b[38;5;241m=\u001b[39m vector_mean([\u001b[43mlinear_gradient\u001b[49m\u001b[43m(\u001b[49m\u001b[43mx\u001b[49m\u001b[43m,\u001b[49m\u001b[43m \u001b[49m\u001b[43my\u001b[49m\u001b[43m,\u001b[49m\u001b[43m \u001b[49m\u001b[43mtheta\u001b[49m\u001b[43m)\u001b[49m \u001b[38;5;28;01mfor\u001b[39;00m x, y \u001b[38;5;129;01min\u001b[39;00m batch])        \n\u001b[0;32m      9\u001b[0m         theta \u001b[38;5;241m=\u001b[39m gradient_step(theta, grad, \u001b[38;5;241m-\u001b[39mlearning_rate)\n\u001b[0;32m     10\u001b[0m     \u001b[38;5;66;03m#print(epoch, theta)\u001b[39;00m\n",
      "File \u001b[1;32md:\\Zeken\\Projects\\DataScience\\FromScratch\\DSFS\\gradient_descent.py:40\u001b[0m, in \u001b[0;36mlinear_gradient\u001b[1;34m(x, y, theta)\u001b[0m\n\u001b[0;32m     37\u001b[0m \u001b[38;5;28;01massert\u001b[39;00m \u001b[38;5;28mlen\u001b[39m(theta) \u001b[38;5;241m==\u001b[39m \u001b[38;5;241m2\u001b[39m, \u001b[38;5;124m\"\u001b[39m\u001b[38;5;124mTheta must be two values\u001b[39m\u001b[38;5;124m\"\u001b[39m\n\u001b[0;32m     39\u001b[0m slope, intercept \u001b[38;5;241m=\u001b[39m theta\n\u001b[1;32m---> 40\u001b[0m predicted \u001b[38;5;241m=\u001b[39m \u001b[43mslope\u001b[49m\u001b[43m \u001b[49m\u001b[38;5;241;43m*\u001b[39;49m\u001b[43m \u001b[49m\u001b[43mx\u001b[49m\u001b[43m \u001b[49m\u001b[38;5;241;43m+\u001b[39;49m\u001b[43m \u001b[49m\u001b[43mintercept\u001b[49m\n\u001b[0;32m     41\u001b[0m error \u001b[38;5;241m=\u001b[39m (predicted \u001b[38;5;241m-\u001b[39m y)\n\u001b[0;32m     42\u001b[0m grad \u001b[38;5;241m=\u001b[39m [\u001b[38;5;241m2\u001b[39m \u001b[38;5;241m*\u001b[39m error \u001b[38;5;241m*\u001b[39m x, \u001b[38;5;241m2\u001b[39m \u001b[38;5;241m*\u001b[39m error]\n",
      "\u001b[1;31mTypeError\u001b[0m: unsupported operand type(s) for +: 'float' and 'module'"
     ]
    }
   ],
   "source": [
    "theta = [random.uniform(-1, 1), random]\n",
    "inputs = [(x, set_slope * x + set_intercept) for x in range(-50, 50)]\n",
    "\n",
    "print(inputs)\n",
    "\n",
    "for epoch in range(1000):\n",
    "    for batch in minibatch(inputs, batch_size=20):\n",
    "        grad = vector_mean([linear_gradient(x, y, theta) for x, y in batch])        \n",
    "        theta = gradient_step(theta, grad, -learning_rate)\n",
    "    #print(epoch, theta)\n",
    "    \n",
    "slope, intercept = theta\n",
    "assert (set_slope - 0.1) < slope < (set_slope + 0.1), f\"Slope should be about {set_slope}\"\n",
    "print(slope, \" In range\")\n",
    "assert (set_intercept - 0.1) < intercept < (set_intercept + 0.1), f\"Intercept should be about {set_intercept}\"\n",
    "print(intercept, \" In range\")"
   ]
  }
 ],
 "metadata": {
  "kernelspec": {
   "display_name": "ipythontools",
   "language": "python",
   "name": "python3"
  },
  "language_info": {
   "codemirror_mode": {
    "name": "ipython",
    "version": 3
   },
   "file_extension": ".py",
   "mimetype": "text/x-python",
   "name": "python",
   "nbconvert_exporter": "python",
   "pygments_lexer": "ipython3",
   "version": "3.10.6"
  }
 },
 "nbformat": 4,
 "nbformat_minor": 2
}
